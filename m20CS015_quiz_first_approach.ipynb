{
  "nbformat": 4,
  "nbformat_minor": 0,
  "metadata": {
    "colab": {
      "name": "quiz1_SG.ipynb",
      "provenance": []
    },
    "kernelspec": {
      "name": "python3",
      "display_name": "Python 3"
    },
    "language_info": {
      "name": "python"
    }
  },
  "cells": [
    {
      "cell_type": "code",
      "metadata": {
        "id": "dZurEvUUs9TO"
      },
      "source": [
        "%matplotlib inline"
      ],
      "execution_count": 1,
      "outputs": []
    },
    {
      "cell_type": "code",
      "metadata": {
        "colab": {
          "base_uri": "https://localhost:8080/"
        },
        "id": "MXaUX87YtAB3",
        "outputId": "609792be-1f22-43f9-8c1d-e771850628bb"
      },
      "source": [
        "print(__doc__)\n",
        "\n",
        "import matplotlib.pyplot as plt\n",
        "\n",
        "# Import datasets, classifiers and performance metrics\n",
        "from sklearn import datasets, svm, metrics\n",
        "from sklearn.model_selection import train_test_split\n",
        "from skimage import transform\n",
        "import numpy as np"
      ],
      "execution_count": 3,
      "outputs": [
        {
          "output_type": "stream",
          "name": "stdout",
          "text": [
            "Automatically created module for IPython interactive environment\n"
          ]
        }
      ]
    },
    {
      "cell_type": "markdown",
      "metadata": {
        "id": "tEyUb2BttWxj"
      },
      "source": [
        "for image size 16"
      ]
    },
    {
      "cell_type": "code",
      "metadata": {
        "colab": {
          "base_uri": "https://localhost:8080/"
        },
        "id": "BTYPzNuNtFG9",
        "outputId": "05d3eb3f-f7ea-413f-f728-19be53c8f162"
      },
      "source": [
        "digits = datasets.load_digits()\n",
        "new_features = np.array(list\n",
        "                        (map\n",
        "                         (lambda img: transform.resize(\n",
        "                                        img.reshape(8,8),#old shape\n",
        "                                          (16, 16), #new shape\n",
        "                                          mode='constant',\n",
        "                                         #flatten the resized image\n",
        "                                          preserve_range=True).ravel(),\n",
        "             digits.images)))\n",
        "\n",
        "digits.images = new_features\n",
        "n_samples = len(digits.images)\n",
        "data = digits.images.reshape((n_samples, -1))\n",
        "clf = svm.SVC(gamma=0.001)\n",
        "\n",
        "# different train-test set\n",
        "testSize = [0.5,0.8,0.9]\n",
        "for i in testSize:\n",
        "  print(\"*********************************************\")\n",
        "  print(f'Displaying test size set of {i}')\n",
        "  X_train, X_test, y_train, y_test = train_test_split(\n",
        "      data, digits.target, test_size=i, shuffle=False)\n",
        "  clf.fit(X_train, y_train)\n",
        "  predicted = clf.predict(X_test)\n",
        "\n",
        "  print(f\"Classification report for classifier {clf}:\\n\"\n",
        "      f\"{metrics.classification_report(y_test, predicted)}\\n\")\n",
        "digits = datasets.load_digits()"
      ],
      "execution_count": 4,
      "outputs": [
        {
          "output_type": "stream",
          "name": "stdout",
          "text": [
            "*********************************************\n",
            "Displaying test size set of 0.5\n",
            "Classification report for classifier SVC(C=1.0, break_ties=False, cache_size=200, class_weight=None, coef0=0.0,\n",
            "    decision_function_shape='ovr', degree=3, gamma=0.001, kernel='rbf',\n",
            "    max_iter=-1, probability=False, random_state=None, shrinking=True,\n",
            "    tol=0.001, verbose=False):\n",
            "              precision    recall  f1-score   support\n",
            "\n",
            "           0       1.00      0.97      0.98        88\n",
            "           1       0.97      0.97      0.97        91\n",
            "           2       0.98      0.99      0.98        86\n",
            "           3       0.98      0.88      0.92        91\n",
            "           4       0.99      0.95      0.97        92\n",
            "           5       0.93      0.97      0.95        91\n",
            "           6       0.98      0.99      0.98        91\n",
            "           7       0.97      0.99      0.98        89\n",
            "           8       0.97      1.00      0.98        88\n",
            "           9       0.92      0.97      0.94        92\n",
            "\n",
            "    accuracy                           0.97       899\n",
            "   macro avg       0.97      0.97      0.97       899\n",
            "weighted avg       0.97      0.97      0.97       899\n",
            "\n",
            "\n",
            "*********************************************\n",
            "Displaying test size set of 0.8\n",
            "Classification report for classifier SVC(C=1.0, break_ties=False, cache_size=200, class_weight=None, coef0=0.0,\n",
            "    decision_function_shape='ovr', degree=3, gamma=0.001, kernel='rbf',\n",
            "    max_iter=-1, probability=False, random_state=None, shrinking=True,\n",
            "    tol=0.001, verbose=False):\n",
            "              precision    recall  f1-score   support\n",
            "\n",
            "           0       1.00      0.98      0.99       140\n",
            "           1       0.86      0.72      0.78       144\n",
            "           2       0.84      0.93      0.88       141\n",
            "           3       0.98      0.72      0.83       145\n",
            "           4       0.98      0.97      0.97       147\n",
            "           5       0.95      0.95      0.95       146\n",
            "           6       0.99      0.96      0.98       145\n",
            "           7       0.97      0.89      0.93       144\n",
            "           8       0.85      0.89      0.87       140\n",
            "           9       0.62      0.90      0.74       146\n",
            "\n",
            "    accuracy                           0.89      1438\n",
            "   macro avg       0.90      0.89      0.89      1438\n",
            "weighted avg       0.90      0.89      0.89      1438\n",
            "\n",
            "\n",
            "*********************************************\n",
            "Displaying test size set of 0.9\n",
            "Classification report for classifier SVC(C=1.0, break_ties=False, cache_size=200, class_weight=None, coef0=0.0,\n",
            "    decision_function_shape='ovr', degree=3, gamma=0.001, kernel='rbf',\n",
            "    max_iter=-1, probability=False, random_state=None, shrinking=True,\n",
            "    tol=0.001, verbose=False):\n",
            "              precision    recall  f1-score   support\n",
            "\n",
            "           0       0.99      0.98      0.99       159\n",
            "           1       0.84      0.35      0.49       164\n",
            "           2       0.82      0.93      0.87       161\n",
            "           3       1.00      0.54      0.70       166\n",
            "           4       0.95      0.93      0.94       164\n",
            "           5       0.90      0.75      0.82       162\n",
            "           6       0.96      0.96      0.96       164\n",
            "           7       0.91      0.91      0.91       161\n",
            "           8       0.58      0.78      0.67       156\n",
            "           9       0.49      0.90      0.63       161\n",
            "\n",
            "    accuracy                           0.80      1618\n",
            "   macro avg       0.85      0.80      0.80      1618\n",
            "weighted avg       0.85      0.80      0.80      1618\n",
            "\n",
            "\n"
          ]
        }
      ]
    },
    {
      "cell_type": "markdown",
      "metadata": {
        "id": "o1xuJQPXtesd"
      },
      "source": [
        "for image size 32"
      ]
    },
    {
      "cell_type": "code",
      "metadata": {
        "colab": {
          "base_uri": "https://localhost:8080/"
        },
        "id": "2zr-7mf_tdHB",
        "outputId": "5d3c2897-76ce-46b9-d88d-c3b3af392208"
      },
      "source": [
        "digits = datasets.load_digits()\n",
        "new_features = np.array(list\n",
        "                        (map\n",
        "                         (lambda img: transform.resize(\n",
        "                                        img.reshape(8,8),#old shape\n",
        "                                          (32, 32), #new shape\n",
        "                                          mode='constant',\n",
        "                                         #flatten the resized image\n",
        "                                          preserve_range=True).ravel(),\n",
        "             digits.images)))\n",
        "\n",
        "digits.images = new_features\n",
        "n_samples = len(digits.images)\n",
        "data = digits.images.reshape((n_samples, -1))\n",
        "clf = svm.SVC(gamma=0.001)\n",
        "\n",
        "# different train-test set\n",
        "testSize = [0.5,0.8,0.9]\n",
        "for i in testSize:\n",
        "  print(\"*********************************************\")\n",
        "  print(f'Displaying test size set of {i}')\n",
        "  X_train, X_test, y_train, y_test = train_test_split(\n",
        "      data, digits.target, test_size=i, shuffle=False)\n",
        "  clf.fit(X_train, y_train)\n",
        "  predicted = clf.predict(X_test)\n",
        "\n",
        "  print(f\"Classification report for classifier {clf}:\\n\"\n",
        "      f\"{metrics.classification_report(y_test, predicted)}\\n\")\n",
        "digits = datasets.load_digits()"
      ],
      "execution_count": 5,
      "outputs": [
        {
          "output_type": "stream",
          "name": "stdout",
          "text": [
            "*********************************************\n",
            "Displaying test size set of 0.5\n",
            "Classification report for classifier SVC(C=1.0, break_ties=False, cache_size=200, class_weight=None, coef0=0.0,\n",
            "    decision_function_shape='ovr', degree=3, gamma=0.001, kernel='rbf',\n",
            "    max_iter=-1, probability=False, random_state=None, shrinking=True,\n",
            "    tol=0.001, verbose=False):\n",
            "              precision    recall  f1-score   support\n",
            "\n",
            "           0       1.00      0.76      0.86        88\n",
            "           1       1.00      0.82      0.90        91\n",
            "           2       1.00      0.77      0.87        86\n",
            "           3       1.00      0.67      0.80        91\n",
            "           4       1.00      0.64      0.78        92\n",
            "           5       1.00      0.88      0.94        91\n",
            "           6       1.00      0.73      0.84        91\n",
            "           7       1.00      0.61      0.76        89\n",
            "           8       0.29      1.00      0.45        88\n",
            "           9       1.00      0.74      0.85        92\n",
            "\n",
            "    accuracy                           0.76       899\n",
            "   macro avg       0.93      0.76      0.81       899\n",
            "weighted avg       0.93      0.76      0.81       899\n",
            "\n",
            "\n",
            "*********************************************\n",
            "Displaying test size set of 0.8\n",
            "Classification report for classifier SVC(C=1.0, break_ties=False, cache_size=200, class_weight=None, coef0=0.0,\n",
            "    decision_function_shape='ovr', degree=3, gamma=0.001, kernel='rbf',\n",
            "    max_iter=-1, probability=False, random_state=None, shrinking=True,\n",
            "    tol=0.001, verbose=False):\n",
            "              precision    recall  f1-score   support\n",
            "\n",
            "           0       1.00      0.69      0.82       140\n",
            "           1       0.94      0.57      0.71       144\n",
            "           2       1.00      0.41      0.58       141\n",
            "           3       1.00      0.42      0.59       145\n",
            "           4       1.00      0.34      0.51       147\n",
            "           5       1.00      0.72      0.84       146\n",
            "           6       1.00      0.57      0.72       145\n",
            "           7       0.99      0.81      0.89       144\n",
            "           8       0.20      0.99      0.34       140\n",
            "           9       0.98      0.68      0.81       146\n",
            "\n",
            "    accuracy                           0.62      1438\n",
            "   macro avg       0.91      0.62      0.68      1438\n",
            "weighted avg       0.91      0.62      0.68      1438\n",
            "\n",
            "\n",
            "*********************************************\n",
            "Displaying test size set of 0.9\n",
            "Classification report for classifier SVC(C=1.0, break_ties=False, cache_size=200, class_weight=None, coef0=0.0,\n",
            "    decision_function_shape='ovr', degree=3, gamma=0.001, kernel='rbf',\n",
            "    max_iter=-1, probability=False, random_state=None, shrinking=True,\n",
            "    tol=0.001, verbose=False):\n",
            "              precision    recall  f1-score   support\n",
            "\n",
            "           0       1.00      0.74      0.85       159\n",
            "           1       1.00      0.10      0.19       164\n",
            "           2       1.00      0.04      0.07       161\n",
            "           3       1.00      0.10      0.19       166\n",
            "           4       1.00      0.13      0.24       164\n",
            "           5       0.13      1.00      0.23       162\n",
            "           6       1.00      0.24      0.38       164\n",
            "           7       1.00      0.42      0.59       161\n",
            "           8       0.77      0.23      0.35       156\n",
            "           9       1.00      0.28      0.44       161\n",
            "\n",
            "    accuracy                           0.33      1618\n",
            "   macro avg       0.89      0.33      0.35      1618\n",
            "weighted avg       0.89      0.33      0.35      1618\n",
            "\n",
            "\n"
          ]
        }
      ]
    },
    {
      "cell_type": "markdown",
      "metadata": {
        "id": "fR_DKyj_ty6r"
      },
      "source": [
        "for image size 64"
      ]
    },
    {
      "cell_type": "code",
      "metadata": {
        "colab": {
          "base_uri": "https://localhost:8080/"
        },
        "id": "2CbY0znMtviE",
        "outputId": "459febc9-8f45-40c1-a28d-6c680681ea19"
      },
      "source": [
        "digits = datasets.load_digits()\n",
        "new_features = np.array(list\n",
        "                        (map\n",
        "                         (lambda img: transform.resize(\n",
        "                                        img.reshape(8,8),#old shape\n",
        "                                          (32, 32), #new shape\n",
        "                                          mode='constant',\n",
        "                                         #flatten the resized image\n",
        "                                          preserve_range=True).ravel(),\n",
        "             digits.images)))\n",
        "\n",
        "digits.images = new_features\n",
        "n_samples = len(digits.images)\n",
        "data = digits.images.reshape((n_samples, -1))\n",
        "clf = svm.SVC(gamma=0.001)\n",
        "\n",
        "# different train-test set\n",
        "testSize = [0.5,0.8,0.9]\n",
        "for i in testSize:\n",
        "  print(\"*********************************************\")\n",
        "  print(f'Displaying test size set of {i}')\n",
        "  X_train, X_test, y_train, y_test = train_test_split(\n",
        "      data, digits.target, test_size=i, shuffle=False)\n",
        "  clf.fit(X_train, y_train)\n",
        "  predicted = clf.predict(X_test)\n",
        "\n",
        "  print(f\"Classification report for classifier {clf}:\\n\"\n",
        "      f\"{metrics.classification_report(y_test, predicted)}\\n\")\n",
        "digits = datasets.load_digits()"
      ],
      "execution_count": 6,
      "outputs": [
        {
          "output_type": "stream",
          "name": "stdout",
          "text": [
            "*********************************************\n",
            "Displaying test size set of 0.5\n",
            "Classification report for classifier SVC(C=1.0, break_ties=False, cache_size=200, class_weight=None, coef0=0.0,\n",
            "    decision_function_shape='ovr', degree=3, gamma=0.001, kernel='rbf',\n",
            "    max_iter=-1, probability=False, random_state=None, shrinking=True,\n",
            "    tol=0.001, verbose=False):\n",
            "              precision    recall  f1-score   support\n",
            "\n",
            "           0       1.00      0.76      0.86        88\n",
            "           1       1.00      0.82      0.90        91\n",
            "           2       1.00      0.77      0.87        86\n",
            "           3       1.00      0.67      0.80        91\n",
            "           4       1.00      0.64      0.78        92\n",
            "           5       1.00      0.88      0.94        91\n",
            "           6       1.00      0.73      0.84        91\n",
            "           7       1.00      0.61      0.76        89\n",
            "           8       0.29      1.00      0.45        88\n",
            "           9       1.00      0.74      0.85        92\n",
            "\n",
            "    accuracy                           0.76       899\n",
            "   macro avg       0.93      0.76      0.81       899\n",
            "weighted avg       0.93      0.76      0.81       899\n",
            "\n",
            "\n",
            "*********************************************\n",
            "Displaying test size set of 0.8\n",
            "Classification report for classifier SVC(C=1.0, break_ties=False, cache_size=200, class_weight=None, coef0=0.0,\n",
            "    decision_function_shape='ovr', degree=3, gamma=0.001, kernel='rbf',\n",
            "    max_iter=-1, probability=False, random_state=None, shrinking=True,\n",
            "    tol=0.001, verbose=False):\n",
            "              precision    recall  f1-score   support\n",
            "\n",
            "           0       1.00      0.69      0.82       140\n",
            "           1       0.94      0.57      0.71       144\n",
            "           2       1.00      0.41      0.58       141\n",
            "           3       1.00      0.42      0.59       145\n",
            "           4       1.00      0.34      0.51       147\n",
            "           5       1.00      0.72      0.84       146\n",
            "           6       1.00      0.57      0.72       145\n",
            "           7       0.99      0.81      0.89       144\n",
            "           8       0.20      0.99      0.34       140\n",
            "           9       0.98      0.68      0.81       146\n",
            "\n",
            "    accuracy                           0.62      1438\n",
            "   macro avg       0.91      0.62      0.68      1438\n",
            "weighted avg       0.91      0.62      0.68      1438\n",
            "\n",
            "\n",
            "*********************************************\n",
            "Displaying test size set of 0.9\n",
            "Classification report for classifier SVC(C=1.0, break_ties=False, cache_size=200, class_weight=None, coef0=0.0,\n",
            "    decision_function_shape='ovr', degree=3, gamma=0.001, kernel='rbf',\n",
            "    max_iter=-1, probability=False, random_state=None, shrinking=True,\n",
            "    tol=0.001, verbose=False):\n",
            "              precision    recall  f1-score   support\n",
            "\n",
            "           0       1.00      0.74      0.85       159\n",
            "           1       1.00      0.10      0.19       164\n",
            "           2       1.00      0.04      0.07       161\n",
            "           3       1.00      0.10      0.19       166\n",
            "           4       1.00      0.13      0.24       164\n",
            "           5       0.13      1.00      0.23       162\n",
            "           6       1.00      0.24      0.38       164\n",
            "           7       1.00      0.42      0.59       161\n",
            "           8       0.77      0.23      0.35       156\n",
            "           9       1.00      0.28      0.44       161\n",
            "\n",
            "    accuracy                           0.33      1618\n",
            "   macro avg       0.89      0.33      0.35      1618\n",
            "weighted avg       0.89      0.33      0.35      1618\n",
            "\n",
            "\n"
          ]
        }
      ]
    }
  ]
}